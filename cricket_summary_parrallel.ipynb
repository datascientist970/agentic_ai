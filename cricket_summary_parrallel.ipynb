{
 "cells": [
  {
   "cell_type": "code",
   "execution_count": 19,
   "id": "0b59782d-30f8-4f06-82f8-8671fb685fd3",
   "metadata": {},
   "outputs": [],
   "source": [
    "from langgraph.graph import START, StateGraph, END\n",
    "from typing import TypedDict"
   ]
  },
  {
   "cell_type": "code",
   "execution_count": 77,
   "id": "56b0436b-e978-43ec-bcd9-bd0b2e48043a",
   "metadata": {},
   "outputs": [],
   "source": [
    "class Batsman(TypedDict):\n",
    "    #inputs\n",
    "    runs : int\n",
    "    fours : int\n",
    "    sixes : int\n",
    "    balls : int\n",
    "\n",
    "    #need to find\n",
    "    sr : int\n",
    "    bpb  : float\n",
    "    boundary_percent  : float\n",
    "    summary : str"
   ]
  },
  {
   "cell_type": "code",
   "execution_count": 78,
   "id": "7c5d9e06-d65c-4cfb-b674-104a5d1364c2",
   "metadata": {},
   "outputs": [],
   "source": [
    "def gen_sr(state: Batsman):\n",
    "    sr = (state['runs'] / state['balls']) * 100\n",
    "    return {\"sr\" : sr}"
   ]
  },
  {
   "cell_type": "code",
   "execution_count": 79,
   "id": "30a59673-4b72-4d1e-8e5b-dbb97fc0296a",
   "metadata": {},
   "outputs": [],
   "source": [
    "def gen_bpb(state: Batsman):\n",
    "    bpb = state['balls'] / (state['fours'] + state['sixes'])\n",
    "    return {\"bpb\" : bpb}"
   ]
  },
  {
   "cell_type": "code",
   "execution_count": 80,
   "id": "41525bc2-7e16-46c6-bdc4-714cc720a231",
   "metadata": {},
   "outputs": [],
   "source": [
    "def gen_boundary(state: Batsman):\n",
    "    boundary_percent = (((state['fours'] * 4) + (state['sixes'] * 6)) / state['runs']) * 100\n",
    "    return {\"boundary_percent\" : boundary_percent}"
   ]
  },
  {
   "cell_type": "code",
   "execution_count": 81,
   "id": "b08c7e0d-96c7-45a8-855d-c56fdf9a31ca",
   "metadata": {},
   "outputs": [],
   "source": [
    "def summary(state: Batsman):\n",
    "    summary_text = f\"\"\"\n",
    "    Strike Rate       : {round(state['sr'], 2)} \n",
    "    Ball per Boundary : {round(state['bpb'], 2)} \n",
    "    Boundary %age     : {round(state['boundary_percent'], 2)}\n",
    "    \"\"\"\n",
    "    return {\"summary\": summary_text}"
   ]
  },
  {
   "cell_type": "code",
   "execution_count": 82,
   "id": "9336e60d-580f-4c90-b579-6aaeae18e622",
   "metadata": {},
   "outputs": [
    {
     "data": {
      "text/plain": [
       "<langgraph.graph.state.StateGraph at 0x22117d53530>"
      ]
     },
     "execution_count": 82,
     "metadata": {},
     "output_type": "execute_result"
    }
   ],
   "source": [
    "graph = StateGraph(Batsman)\n",
    "\n",
    "graph.add_node(\"gen_sr\",gen_sr)\n",
    "graph.add_node(\"gen_bpb\",gen_bpb)\n",
    "graph.add_node(\"gen_boundary\",gen_boundary)\n",
    "graph.add_node(\"summary\",summary)"
   ]
  },
  {
   "cell_type": "code",
   "execution_count": 83,
   "id": "a4e85a07-fff8-4656-b906-103b48d7c08f",
   "metadata": {},
   "outputs": [
    {
     "data": {
      "text/plain": [
       "<langgraph.graph.state.StateGraph at 0x22117d53530>"
      ]
     },
     "execution_count": 83,
     "metadata": {},
     "output_type": "execute_result"
    }
   ],
   "source": [
    "graph.add_edge(START, \"gen_sr\")\n",
    "graph.add_edge(START, \"gen_bpb\")\n",
    "graph.add_edge(START, \"gen_boundary\")\n",
    "\n",
    "graph.add_edge(\"gen_sr\",\"summary\")\n",
    "graph.add_edge(\"gen_bpb\",\"summary\")\n",
    "graph.add_edge(\"gen_boundary\",\"summary\")\n",
    "\n",
    "graph.add_edge(\"summary\",END)"
   ]
  },
  {
   "cell_type": "code",
   "execution_count": 84,
   "id": "6fb147c9-bb24-4324-8280-231cd00363e8",
   "metadata": {},
   "outputs": [],
   "source": [
    "work = graph.compile()"
   ]
  },
  {
   "cell_type": "code",
   "execution_count": 85,
   "id": "52da418b-af4c-4361-ae5a-11f52cb31f38",
   "metadata": {},
   "outputs": [
    {
     "data": {
      "image/png": "[encoded data removed]",
      "text/plain": [
       "<langgraph.graph.state.CompiledStateGraph object at 0x0000022117DA6120>"
      ]
     },
     "execution_count": 85,
     "metadata": {},
     "output_type": "execute_result"
    }
   ],
   "source": [
    "work"
   ]
  },
  {
   "cell_type": "code",
   "execution_count": 86,
   "id": "5fd3041f-293d-4cf1-bd7e-b86b3d45d753",
   "metadata": {},
   "outputs": [
    {
     "data": {
      "text/plain": [
       "{'runs': 150,\n",
       " 'fours': 8,\n",
       " 'sixes': 4,\n",
       " 'balls': 100,\n",
       " 'sr': 150.0,\n",
       " 'bpb': 8.333333333333334,\n",
       " 'boundary_percent': 37.333333333333336,\n",
       " 'summary': '\\n    Strike Rate       : 150.0 \\n    Ball per Boundary : 8.33 \\n    Boundary %age     : 37.33\\n    '}"
      ]
     },
     "execution_count": 86,
     "metadata": {},
     "output_type": "execute_result"
    }
   ],
   "source": [
    "start = {\n",
    "    \"runs\" : 150,\n",
    "    \"balls\" : 100,\n",
    "    \"fours\" : 8,\n",
    "    \"sixes\" : 4\n",
    "}\n",
    "work.invoke(start)"
   ]
  },
  {
   "cell_type": "code",
   "execution_count": null,
   "id": "3e087c27-6f3a-4f2d-82b8-c08246b9feb9",
   "metadata": {},
   "outputs": [],
   "source": []
  }
 ],
 "metadata": {
  "kernelspec": {
   "display_name": "Python 3 (ipykernel)",
   "language": "python",
   "name": "python3"
  },
  "language_info": {
   "codemirror_mode": {
    "name": "ipython",
    "version": 3
   },
   "file_extension": ".py",
   "mimetype": "text/x-python",
   "name": "python",
   "nbconvert_exporter": "python",
   "pygments_lexer": "ipython3",
   "version": "3.12.7"
  }
 },
 "nbformat": 4,
 "nbformat_minor": 5
}
