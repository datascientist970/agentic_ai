{
 "cells": [
  {
   "cell_type": "code",
   "execution_count": 1,
   "id": "18cfef8a-e0e7-4a7a-a8e8-8f8fea26d11b",
   "metadata": {},
   "outputs": [],
   "source": [
    "from langgraph.graph import StateGraph, START, END\n",
    "from typing import TypedDict"
   ]
  },
  {
   "cell_type": "code",
   "execution_count": 2,
   "id": "55196f0b-dd0f-4cc5-9cbf-2de6671fa32f",
   "metadata": {},
   "outputs": [],
   "source": [
    "#define state\n",
    "class BMI_state(TypedDict):\n",
    "    weight:float\n",
    "    height:float                   \n",
    "    bmi:float\n",
    "    cat:str"
   ]
  },
  {
   "cell_type": "code",
   "execution_count": 3,
   "id": "bc687262-f7b1-4c06-97ed-a5af49c9b8e1",
   "metadata": {},
   "outputs": [],
   "source": [
    "def calculate_bmi(state: BMI_state) -> BMI_state:\n",
    "    w = state['weight']\n",
    "    h = state['height']\n",
    "    b = w/(h **2)\n",
    "    state['bmi'] = round(b,2)\n",
    "    return state"
   ]
  },
  {
   "cell_type": "code",
   "execution_count": 9,
   "id": "3738fe65-a4db-480a-9972-a0a5e575dbdb",
   "metadata": {},
   "outputs": [],
   "source": [
    "def category(state: BMI_state) -> BMI_state:\n",
    "    bmi=state['bmi']\n",
    "    if bmi<20:\n",
    "        state['cat'] = 'underweighted'\n",
    "    elif bmi < 25:\n",
    "        state['cat'] = 'normal'\n",
    "    else:\n",
    "        state['cat'] = 'over weight'\n",
    "    return state\n",
    "        "
   ]
  },
  {
   "cell_type": "code",
   "execution_count": 10,
   "id": "0b27be28-945f-4592-94f4-abf9f6c40c6b",
   "metadata": {},
   "outputs": [],
   "source": [
    "#define graph\n",
    "graph= StateGraph(BMI_state)"
   ]
  },
  {
   "cell_type": "code",
   "execution_count": 11,
   "id": "36c550f2-f79f-4c41-8896-d22635d3b003",
   "metadata": {},
   "outputs": [
    {
     "data": {
      "text/plain": [
       "<langgraph.graph.state.StateGraph at 0x1fd6103a8a0>"
      ]
     },
     "execution_count": 11,
     "metadata": {},
     "output_type": "execute_result"
    }
   ],
   "source": [
    "#define node\n",
    "graph.add_node(\"bmi_calculation\",calculate_bmi)\n",
    "graph.add_node(\"category\", category)"
   ]
  },
  {
   "cell_type": "code",
   "execution_count": 12,
   "id": "6e59436a-4f66-4843-8917-13f28362a780",
   "metadata": {},
   "outputs": [
    {
     "data": {
      "text/plain": [
       "<langgraph.graph.state.StateGraph at 0x1fd6103a8a0>"
      ]
     },
     "execution_count": 12,
     "metadata": {},
     "output_type": "execute_result"
    }
   ],
   "source": [
    "#define edge\n",
    "graph.add_edge(START, \"bmi_calculation\")\n",
    "graph.add_edge(\"bmi_calculation\",\"category\")\n",
    "graph.add_edge(\"category\",END)"
   ]
  },
  {
   "cell_type": "code",
   "execution_count": 13,
   "id": "eae91da6-1439-4374-bc4b-937e249d88e5",
   "metadata": {},
   "outputs": [
    {
     "data": {
      "image/png": "[encoded data removed]",
      "text/plain": [
       "<langgraph.graph.state.CompiledStateGraph object at 0x000001FD610077A0>"
      ]
     },
     "execution_count": 13,
     "metadata": {},
     "output_type": "execute_result"
    }
   ],
   "source": [
    "#define compile graph\n",
    "workflow= graph.compile()\n",
    "workflow"
   ]
  },
  {
   "cell_type": "code",
   "execution_count": 14,
   "id": "4bc01b3f-0cd0-46dd-9359-4a3e187e9c3a",
   "metadata": {},
   "outputs": [],
   "source": [
    "# execution\n",
    "result=workflow.invoke({\"weight\":80,\"height\":1.6})"
   ]
  },
  {
   "cell_type": "code",
   "execution_count": 30,
   "id": "93bacec2-5040-4518-902a-d0350f47e04c",
   "metadata": {},
   "outputs": [
    {
     "name": "stdout",
     "output_type": "stream",
     "text": [
      "weight 80\n",
      "height 1.6\n",
      "bmi 31.25\n",
      "cat over weight\n"
     ]
    }
   ],
   "source": [
    "for i,j in result.items():\n",
    "    print(i,j)"
   ]
  },
  {
   "cell_type": "code",
   "execution_count": null,
   "id": "d22855a4-6448-4f23-9ab5-bcecb0d917e3",
   "metadata": {},
   "outputs": [],
   "source": []
  },
  {
   "cell_type": "code",
   "execution_count": null,
   "id": "215e4a6f-b725-4438-987e-9148d693032f",
   "metadata": {},
   "outputs": [],
   "source": []
  }
 ],
 "metadata": {
  "kernelspec": {
   "display_name": "Python 3 (ipykernel)",
   "language": "python",
   "name": "python3"
  },
  "language_info": {
   "codemirror_mode": {
    "name": "ipython",
    "version": 3
   },
   "file_extension": ".py",
   "mimetype": "text/x-python",
   "name": "python",
   "nbconvert_exporter": "python",
   "pygments_lexer": "ipython3",
   "version": "3.12.7"
  }
 },
 "nbformat": 4,
 "nbformat_minor": 5
}
